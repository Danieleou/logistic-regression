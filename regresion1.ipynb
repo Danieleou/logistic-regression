{
 "cells": [
  {
   "cell_type": "markdown",
   "id": "d67af389",
   "metadata": {},
   "source": [
    "# Vinos"
   ]
  },
  {
   "cell_type": "markdown",
   "id": "693ea87a",
   "metadata": {},
   "source": [
    "## Preambulo"
   ]
  },
  {
   "cell_type": "code",
   "execution_count": null,
   "id": "1d7fd06b",
   "metadata": {},
   "outputs": [],
   "source": [
    "import pandas as pd\n",
    "import numpy as np\n",
    "import matplotlib.pyplot as plt\n",
    "from sklearn.preprocessing import label_binarize\n",
    "from sklearn.model_selection import train_test_split\n",
    "from sklearn.linear_model import LogisticRegression\n",
    "from sklearn import metrics"
   ]
  },
  {
   "cell_type": "markdown",
   "id": "d00ec094",
   "metadata": {},
   "source": [
    "## Cargar datos"
   ]
  },
  {
   "cell_type": "code",
   "execution_count": null,
   "id": "f8241c84",
   "metadata": {},
   "outputs": [],
   "source": [
    "df = pd.read_csv(\"data.txt\")"
   ]
  },
  {
   "cell_type": "code",
   "execution_count": null,
   "id": "3cafbbe6",
   "metadata": {},
   "outputs": [],
   "source": [
    "print(df.shape)\n",
    "print(df.dtypes)"
   ]
  },
  {
   "cell_type": "code",
   "execution_count": null,
   "id": "2ee34214",
   "metadata": {},
   "outputs": [],
   "source": [
    "df[\"class\"].value_counts()"
   ]
  },
  {
   "cell_type": "code",
   "execution_count": null,
   "id": "70f939e0",
   "metadata": {},
   "outputs": [],
   "source": [
    "reduced = df[df[\"class\"]<=2]"
   ]
  },
  {
   "cell_type": "code",
   "execution_count": null,
   "id": "3103205d",
   "metadata": {},
   "outputs": [],
   "source": [
    "reduced.head()"
   ]
  },
  {
   "cell_type": "code",
   "execution_count": null,
   "id": "17a0566d",
   "metadata": {},
   "outputs": [],
   "source": [
    "reduced[\"class\"].value_counts()"
   ]
  },
  {
   "cell_type": "code",
   "execution_count": null,
   "id": "ec2b710f",
   "metadata": {},
   "outputs": [],
   "source": [
    "X = reduced.loc[:, [\"alcohol\", \"ash\"]]\n",
    "X.head()"
   ]
  },
  {
   "cell_type": "code",
   "execution_count": null,
   "id": "520860b9",
   "metadata": {},
   "outputs": [],
   "source": [
    "y = label_binarize(reduced[\"class\"].values, classes = [1, 2])"
   ]
  },
  {
   "cell_type": "code",
   "execution_count": null,
   "id": "34150d35",
   "metadata": {},
   "outputs": [],
   "source": [
    "reduced[\"class\"].values"
   ]
  },
  {
   "cell_type": "code",
   "execution_count": null,
   "id": "93b8ecde",
   "metadata": {},
   "outputs": [],
   "source": [
    "y"
   ]
  },
  {
   "cell_type": "markdown",
   "id": "888c9762",
   "metadata": {},
   "source": [
    "## Ejemplo"
   ]
  },
  {
   "cell_type": "code",
   "execution_count": null,
   "id": "984ed9c6",
   "metadata": {},
   "outputs": [],
   "source": [
    "example = np.copy(df[\"class\"].values)"
   ]
  },
  {
   "cell_type": "code",
   "execution_count": null,
   "id": "91713d74",
   "metadata": {},
   "outputs": [],
   "source": [
    "print(example)"
   ]
  },
  {
   "cell_type": "code",
   "execution_count": null,
   "id": "95588a9a",
   "metadata": {},
   "outputs": [],
   "source": [
    "np.random.shuffle(example)"
   ]
  },
  {
   "cell_type": "code",
   "execution_count": null,
   "id": "0c6317f3",
   "metadata": {},
   "outputs": [],
   "source": [
    "example"
   ]
  },
  {
   "cell_type": "code",
   "execution_count": null,
   "id": "907f67eb",
   "metadata": {},
   "outputs": [],
   "source": [
    "tabla = label_binarize(example, classes = list(set(example)))"
   ]
  },
  {
   "cell_type": "code",
   "execution_count": null,
   "id": "35f92f50",
   "metadata": {},
   "outputs": [],
   "source": [
    "tabla"
   ]
  },
  {
   "cell_type": "markdown",
   "id": "586d169e",
   "metadata": {},
   "source": [
    "## Entrenamiento de modelo"
   ]
  },
  {
   "cell_type": "code",
   "execution_count": null,
   "id": "78f0466e",
   "metadata": {},
   "outputs": [],
   "source": [
    "X_train, X_test, y_train, y_test = train_test_split(X, y, test_size = 0.25, random_state = 123)\n",
    "print(\"train: {}\\ntest: {}\".format(len(X_train), len(X_test)))"
   ]
  },
  {
   "cell_type": "code",
   "execution_count": null,
   "id": "0516e2cc",
   "metadata": {},
   "outputs": [],
   "source": [
    "model = LogisticRegression()\n",
    "model = model.fit(X_train, y_train)"
   ]
  },
  {
   "cell_type": "code",
   "execution_count": null,
   "id": "7b95093b",
   "metadata": {},
   "outputs": [],
   "source": [
    "y_pred = model.predict(X_test)"
   ]
  },
  {
   "cell_type": "code",
   "execution_count": null,
   "id": "f9146b8b",
   "metadata": {},
   "outputs": [],
   "source": [
    "cnf_matrix = metrics.confusion_matrix(y_test, y_pred)"
   ]
  }
 ],
 "metadata": {
  "kernelspec": {
   "display_name": "venv",
   "language": "python",
   "name": "python3"
  },
  "language_info": {
   "codemirror_mode": {
    "name": "ipython",
    "version": 3
   },
   "file_extension": ".py",
   "mimetype": "text/x-python",
   "name": "python",
   "nbconvert_exporter": "python",
   "pygments_lexer": "ipython3",
   "version": "3.11.8"
  }
 },
 "nbformat": 4,
 "nbformat_minor": 5
}
