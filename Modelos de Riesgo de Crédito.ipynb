{
 "cells": [
  {
   "cell_type": "markdown",
   "id": "13af1f70",
   "metadata": {},
   "source": [
    "# Idea del modelo"
   ]
  },
  {
   "cell_type": "markdown",
   "id": "df79f855",
   "metadata": {},
   "source": [
    "## Introducción"
   ]
  },
  {
   "cell_type": "markdown",
   "id": "8ec921e5",
   "metadata": {},
   "source": [
    "Un banco (acreedor) al prestar un crédito a una persona o empresa (el deudor). Se corre el riesgo de que el deudor no pague, por lo que en este proyecto se enforacara en cual es probabilidad de que un deudor no pague a tiempo un crédito"
   ]
  },
  {
   "cell_type": "markdown",
   "id": "5186dc23",
   "metadata": {},
   "source": [
    "## Preambulo"
   ]
  },
  {
   "cell_type": "code",
   "execution_count": 1,
   "id": "220e138a",
   "metadata": {},
   "outputs": [],
   "source": [
    "import pyreadr\n",
    "import numpy as np\n",
    "import pandas as pd\n",
    "import matplotlib.pyplot as plt\n",
    "from sklearn.linear_model import LogisticRegression\n",
    "from math import sqrt"
   ]
  },
  {
   "cell_type": "markdown",
   "id": "59c1eef9",
   "metadata": {},
   "source": [
    "## Lectura"
   ]
  },
  {
   "cell_type": "code",
   "execution_count": 2,
   "id": "0ae90c45",
   "metadata": {},
   "outputs": [
    {
     "name": "stdout",
     "output_type": "stream",
     "text": [
      "(29092, 8)\n"
     ]
    }
   ],
   "source": [
    "data = pyreadr.read_r(\"loan_data_ch1.rds\")[None]\n",
    "print(data.shape)"
   ]
  },
  {
   "cell_type": "code",
   "execution_count": 3,
   "id": "aefd2c2a",
   "metadata": {},
   "outputs": [
    {
     "data": {
      "text/html": [
       "<div>\n",
       "<style scoped>\n",
       "    .dataframe tbody tr th:only-of-type {\n",
       "        vertical-align: middle;\n",
       "    }\n",
       "\n",
       "    .dataframe tbody tr th {\n",
       "        vertical-align: top;\n",
       "    }\n",
       "\n",
       "    .dataframe thead th {\n",
       "        text-align: right;\n",
       "    }\n",
       "</style>\n",
       "<table border=\"1\" class=\"dataframe\">\n",
       "  <thead>\n",
       "    <tr style=\"text-align: right;\">\n",
       "      <th></th>\n",
       "      <th>loan_status</th>\n",
       "      <th>loan_amnt</th>\n",
       "      <th>int_rate</th>\n",
       "      <th>grade</th>\n",
       "      <th>emp_length</th>\n",
       "      <th>home_ownership</th>\n",
       "      <th>annual_inc</th>\n",
       "      <th>age</th>\n",
       "    </tr>\n",
       "    <tr>\n",
       "      <th>rownames</th>\n",
       "      <th></th>\n",
       "      <th></th>\n",
       "      <th></th>\n",
       "      <th></th>\n",
       "      <th></th>\n",
       "      <th></th>\n",
       "      <th></th>\n",
       "      <th></th>\n",
       "    </tr>\n",
       "  </thead>\n",
       "  <tbody>\n",
       "    <tr>\n",
       "      <th>1</th>\n",
       "      <td>0</td>\n",
       "      <td>5000</td>\n",
       "      <td>10.65</td>\n",
       "      <td>B</td>\n",
       "      <td>10</td>\n",
       "      <td>RENT</td>\n",
       "      <td>24000.0</td>\n",
       "      <td>33</td>\n",
       "    </tr>\n",
       "    <tr>\n",
       "      <th>2</th>\n",
       "      <td>0</td>\n",
       "      <td>2400</td>\n",
       "      <td>NaN</td>\n",
       "      <td>C</td>\n",
       "      <td>25</td>\n",
       "      <td>RENT</td>\n",
       "      <td>12252.0</td>\n",
       "      <td>31</td>\n",
       "    </tr>\n",
       "    <tr>\n",
       "      <th>3</th>\n",
       "      <td>0</td>\n",
       "      <td>10000</td>\n",
       "      <td>13.49</td>\n",
       "      <td>C</td>\n",
       "      <td>13</td>\n",
       "      <td>RENT</td>\n",
       "      <td>49200.0</td>\n",
       "      <td>24</td>\n",
       "    </tr>\n",
       "    <tr>\n",
       "      <th>4</th>\n",
       "      <td>0</td>\n",
       "      <td>5000</td>\n",
       "      <td>NaN</td>\n",
       "      <td>A</td>\n",
       "      <td>3</td>\n",
       "      <td>RENT</td>\n",
       "      <td>36000.0</td>\n",
       "      <td>39</td>\n",
       "    </tr>\n",
       "    <tr>\n",
       "      <th>5</th>\n",
       "      <td>0</td>\n",
       "      <td>3000</td>\n",
       "      <td>NaN</td>\n",
       "      <td>E</td>\n",
       "      <td>9</td>\n",
       "      <td>RENT</td>\n",
       "      <td>48000.0</td>\n",
       "      <td>24</td>\n",
       "    </tr>\n",
       "    <tr>\n",
       "      <th>6</th>\n",
       "      <td>0</td>\n",
       "      <td>12000</td>\n",
       "      <td>12.69</td>\n",
       "      <td>B</td>\n",
       "      <td>11</td>\n",
       "      <td>OWN</td>\n",
       "      <td>75000.0</td>\n",
       "      <td>28</td>\n",
       "    </tr>\n",
       "    <tr>\n",
       "      <th>7</th>\n",
       "      <td>1</td>\n",
       "      <td>9000</td>\n",
       "      <td>13.49</td>\n",
       "      <td>C</td>\n",
       "      <td>0</td>\n",
       "      <td>RENT</td>\n",
       "      <td>30000.0</td>\n",
       "      <td>22</td>\n",
       "    </tr>\n",
       "    <tr>\n",
       "      <th>8</th>\n",
       "      <td>0</td>\n",
       "      <td>3000</td>\n",
       "      <td>9.91</td>\n",
       "      <td>B</td>\n",
       "      <td>3</td>\n",
       "      <td>RENT</td>\n",
       "      <td>15000.0</td>\n",
       "      <td>22</td>\n",
       "    </tr>\n",
       "    <tr>\n",
       "      <th>9</th>\n",
       "      <td>1</td>\n",
       "      <td>10000</td>\n",
       "      <td>10.65</td>\n",
       "      <td>B</td>\n",
       "      <td>3</td>\n",
       "      <td>RENT</td>\n",
       "      <td>100000.0</td>\n",
       "      <td>28</td>\n",
       "    </tr>\n",
       "    <tr>\n",
       "      <th>10</th>\n",
       "      <td>0</td>\n",
       "      <td>1000</td>\n",
       "      <td>16.29</td>\n",
       "      <td>D</td>\n",
       "      <td>0</td>\n",
       "      <td>RENT</td>\n",
       "      <td>28000.0</td>\n",
       "      <td>22</td>\n",
       "    </tr>\n",
       "  </tbody>\n",
       "</table>\n",
       "</div>"
      ],
      "text/plain": [
       "          loan_status  loan_amnt  int_rate grade emp_length home_ownership  \\\n",
       "rownames                                                                     \n",
       "1                   0       5000     10.65     B         10           RENT   \n",
       "2                   0       2400       NaN     C         25           RENT   \n",
       "3                   0      10000     13.49     C         13           RENT   \n",
       "4                   0       5000       NaN     A          3           RENT   \n",
       "5                   0       3000       NaN     E          9           RENT   \n",
       "6                   0      12000     12.69     B         11            OWN   \n",
       "7                   1       9000     13.49     C          0           RENT   \n",
       "8                   0       3000      9.91     B          3           RENT   \n",
       "9                   1      10000     10.65     B          3           RENT   \n",
       "10                  0       1000     16.29     D          0           RENT   \n",
       "\n",
       "          annual_inc  age  \n",
       "rownames                   \n",
       "1            24000.0   33  \n",
       "2            12252.0   31  \n",
       "3            49200.0   24  \n",
       "4            36000.0   39  \n",
       "5            48000.0   24  \n",
       "6            75000.0   28  \n",
       "7            30000.0   22  \n",
       "8            15000.0   22  \n",
       "9           100000.0   28  \n",
       "10           28000.0   22  "
      ]
     },
     "execution_count": 3,
     "metadata": {},
     "output_type": "execute_result"
    }
   ],
   "source": [
    "data.head(10)"
   ]
  },
  {
   "cell_type": "markdown",
   "id": "2ad988e6",
   "metadata": {},
   "source": [
    "En loan_status indica si el cliente no imcumplio (0) o si incumplio (1)"
   ]
  },
  {
   "cell_type": "code",
   "execution_count": 4,
   "id": "3243e832",
   "metadata": {},
   "outputs": [
    {
     "name": "stdout",
     "output_type": "stream",
     "text": [
      "home_ownership\n",
      "RENT        14692\n",
      "MORTGAGE    12002\n",
      "OWN          2301\n",
      "OTHER          97\n",
      "Name: count, dtype: int64\n"
     ]
    }
   ],
   "source": [
    "print(data[\"home_ownership\"].value_counts())"
   ]
  },
  {
   "cell_type": "code",
   "execution_count": 5,
   "id": "2004e536",
   "metadata": {},
   "outputs": [
    {
     "data": {
      "text/html": [
       "<div>\n",
       "<style scoped>\n",
       "    .dataframe tbody tr th:only-of-type {\n",
       "        vertical-align: middle;\n",
       "    }\n",
       "\n",
       "    .dataframe tbody tr th {\n",
       "        vertical-align: top;\n",
       "    }\n",
       "\n",
       "    .dataframe thead th {\n",
       "        text-align: right;\n",
       "    }\n",
       "</style>\n",
       "<table border=\"1\" class=\"dataframe\">\n",
       "  <thead>\n",
       "    <tr style=\"text-align: right;\">\n",
       "      <th>loan_status</th>\n",
       "      <th>0</th>\n",
       "      <th>1</th>\n",
       "      <th>All</th>\n",
       "    </tr>\n",
       "    <tr>\n",
       "      <th>home_ownership</th>\n",
       "      <th></th>\n",
       "      <th></th>\n",
       "      <th></th>\n",
       "    </tr>\n",
       "  </thead>\n",
       "  <tbody>\n",
       "    <tr>\n",
       "      <th>MORTGAGE</th>\n",
       "      <td>10821</td>\n",
       "      <td>1181</td>\n",
       "      <td>12002</td>\n",
       "    </tr>\n",
       "    <tr>\n",
       "      <th>OTHER</th>\n",
       "      <td>80</td>\n",
       "      <td>17</td>\n",
       "      <td>97</td>\n",
       "    </tr>\n",
       "    <tr>\n",
       "      <th>OWN</th>\n",
       "      <td>2049</td>\n",
       "      <td>252</td>\n",
       "      <td>2301</td>\n",
       "    </tr>\n",
       "    <tr>\n",
       "      <th>RENT</th>\n",
       "      <td>12915</td>\n",
       "      <td>1777</td>\n",
       "      <td>14692</td>\n",
       "    </tr>\n",
       "    <tr>\n",
       "      <th>All</th>\n",
       "      <td>25865</td>\n",
       "      <td>3227</td>\n",
       "      <td>29092</td>\n",
       "    </tr>\n",
       "  </tbody>\n",
       "</table>\n",
       "</div>"
      ],
      "text/plain": [
       "loan_status         0     1    All\n",
       "home_ownership                    \n",
       "MORTGAGE        10821  1181  12002\n",
       "OTHER              80    17     97\n",
       "OWN              2049   252   2301\n",
       "RENT            12915  1777  14692\n",
       "All             25865  3227  29092"
      ]
     },
     "execution_count": 5,
     "metadata": {},
     "output_type": "execute_result"
    }
   ],
   "source": [
    "round(pd.crosstab(data[\"home_ownership\"], data[\"loan_status\"], margins=True), 3)"
   ]
  },
  {
   "cell_type": "markdown",
   "id": "ae34695b",
   "metadata": {},
   "source": [
    "## Graficando"
   ]
  },
  {
   "cell_type": "code",
   "execution_count": 6,
   "id": "8045f447",
   "metadata": {},
   "outputs": [
    {
     "data": {
      "image/png": "[encoded data removed]",
      "text/plain": [
       "<Figure size 640x480 with 1 Axes>"
      ]
     },
     "metadata": {},
     "output_type": "display_data"
    }
   ],
   "source": [
    "plt.hist(data[[\"int_rate\"]], color = \"white\", edgecolor = \"black\", bins = 19)\n",
    "plt.xlabel(\"Interest rate\")\n",
    "plt.ylabel(\"Frequency\")\n",
    "plt.title(\"Histogram of interest rate\")\n",
    "plt.show()"
   ]
  },
  {
   "cell_type": "markdown",
   "id": "9c5d7a42",
   "metadata": {},
   "source": [
    "Se puede usar lo siguiente para dividir los contenedores del siguiente histograma, cosa que no hice aquí, en principio"
   ]
  },
  {
   "cell_type": "markdown",
   "id": "de272d78",
   "metadata": {},
   "source": [
    "$$\\sqrt{\\text{len(datos)}}$$"
   ]
  },
  {
   "cell_type": "code",
   "execution_count": 7,
   "id": "9f76e89d",
   "metadata": {},
   "outputs": [],
   "source": [
    "cont = [x for x in range(0, int(max(data[\"annual_inc\"])), 50000)]"
   ]
  },
  {
   "cell_type": "code",
   "execution_count": 8,
   "id": "d0d7b275",
   "metadata": {},
   "outputs": [
    {
     "data": {
      "image/png": "[encoded data removed]",
      "text/plain": [
       "<Figure size 640x480 with 1 Axes>"
      ]
     },
     "metadata": {},
     "output_type": "display_data"
    }
   ],
   "source": [
    "n, bins, patches = plt.hist(data[[\"annual_inc\"]], color = \"white\", edgecolor = \"black\", bins = cont)\n",
    "plt.xlabel(\"Annual income\")\n",
    "plt.ylabel(\"Frequency\")\n",
    "plt.title(\"Histogram of interest rate\")\n",
    "plt.show()"
   ]
  },
  {
   "cell_type": "code",
   "execution_count": 9,
   "id": "3e9f0a45",
   "metadata": {},
   "outputs": [
    {
     "name": "stdout",
     "output_type": "stream",
     "text": [
      "[      0.   50000.  100000.  150000.  200000.  250000.  300000.  350000.\n",
      "  400000.  450000.  500000.  550000.  600000.  650000.  700000.  750000.\n",
      "  800000.  850000.  900000.  950000. 1000000. 1050000. 1100000. 1150000.\n",
      " 1200000. 1250000. 1300000. 1350000. 1400000. 1450000. 1500000. 1550000.\n",
      " 1600000. 1650000. 1700000. 1750000. 1800000. 1850000. 1900000. 1950000.\n",
      " 2000000. 2050000. 2100000. 2150000. 2200000. 2250000. 2300000. 2350000.\n",
      " 2400000. 2450000. 2500000. 2550000. 2600000. 2650000. 2700000. 2750000.\n",
      " 2800000. 2850000. 2900000. 2950000. 3000000. 3050000. 3100000. 3150000.\n",
      " 3200000. 3250000. 3300000. 3350000. 3400000. 3450000. 3500000. 3550000.\n",
      " 3600000. 3650000. 3700000. 3750000. 3800000. 3850000. 3900000. 3950000.\n",
      " 4000000. 4050000. 4100000. 4150000. 4200000. 4250000. 4300000. 4350000.\n",
      " 4400000. 4450000. 4500000. 4550000. 4600000. 4650000. 4700000. 4750000.\n",
      " 4800000. 4850000. 4900000. 4950000. 5000000. 5050000. 5100000. 5150000.\n",
      " 5200000. 5250000. 5300000. 5350000. 5400000. 5450000. 5500000. 5550000.\n",
      " 5600000. 5650000. 5700000. 5750000. 5800000. 5850000. 5900000. 5950000.]\n"
     ]
    }
   ],
   "source": [
    "print(bins)"
   ]
  },
  {
   "cell_type": "code",
   "execution_count": 10,
   "id": "582598b1",
   "metadata": {},
   "outputs": [
    {
     "name": "stdout",
     "output_type": "stream",
     "text": [
      "Detalles de cada bin:\n",
      "Bin 1: [0.00, 50000.00] - frecuencia: 11411.0\n",
      "Bin 2: [50000.00, 100000.00] - frecuencia: 13418.0\n",
      "Bin 3: [100000.00, 150000.00] - frecuencia: 3045.0\n",
      "Bin 4: [150000.00, 200000.00] - frecuencia: 726.0\n",
      "Bin 5: [200000.00, 250000.00] - frecuencia: 250.0\n",
      "Bin 6: [250000.00, 300000.00] - frecuencia: 86.0\n",
      "Bin 7: [300000.00, 350000.00] - frecuencia: 60.0\n",
      "Bin 8: [350000.00, 400000.00] - frecuencia: 23.0\n",
      "Bin 9: [400000.00, 450000.00] - frecuencia: 13.0\n",
      "Bin 10: [450000.00, 500000.00] - frecuencia: 8.0\n",
      "Bin 11: [500000.00, 550000.00] - frecuencia: 9.0\n",
      "Bin 12: [550000.00, 600000.00] - frecuencia: 5.0\n",
      "Bin 13: [600000.00, 650000.00] - frecuencia: 8.0\n",
      "Bin 14: [650000.00, 700000.00] - frecuencia: 2.0\n",
      "Bin 15: [700000.00, 750000.00] - frecuencia: 5.0\n",
      "Bin 16: [750000.00, 800000.00] - frecuencia: 5.0\n",
      "Bin 17: [800000.00, 850000.00] - frecuencia: 3.0\n",
      "Bin 18: [850000.00, 900000.00] - frecuencia: 1.0\n",
      "Bin 19: [900000.00, 950000.00] - frecuencia: 5.0\n",
      "Bin 20: [950000.00, 1000000.00] - frecuencia: 0.0\n",
      "Bin 21: [1000000.00, 1050000.00] - frecuencia: 0.0\n",
      "Bin 22: [1050000.00, 1100000.00] - frecuencia: 0.0\n",
      "Bin 23: [1100000.00, 1150000.00] - frecuencia: 0.0\n",
      "Bin 24: [1150000.00, 1200000.00] - frecuencia: 0.0\n",
      "Bin 25: [1200000.00, 1250000.00] - frecuencia: 3.0\n",
      "Bin 26: [1250000.00, 1300000.00] - frecuencia: 0.0\n",
      "Bin 27: [1300000.00, 1350000.00] - frecuencia: 0.0\n",
      "Bin 28: [1350000.00, 1400000.00] - frecuencia: 1.0\n",
      "Bin 29: [1400000.00, 1450000.00] - frecuencia: 1.0\n",
      "Bin 30: [1450000.00, 1500000.00] - frecuencia: 0.0\n",
      "Bin 31: [1500000.00, 1550000.00] - frecuencia: 0.0\n",
      "Bin 32: [1550000.00, 1600000.00] - frecuencia: 0.0\n",
      "Bin 33: [1600000.00, 1650000.00] - frecuencia: 0.0\n",
      "Bin 34: [1650000.00, 1700000.00] - frecuencia: 0.0\n",
      "Bin 35: [1700000.00, 1750000.00] - frecuencia: 0.0\n",
      "Bin 36: [1750000.00, 1800000.00] - frecuencia: 1.0\n",
      "Bin 37: [1800000.00, 1850000.00] - frecuencia: 0.0\n",
      "Bin 38: [1850000.00, 1900000.00] - frecuencia: 0.0\n",
      "Bin 39: [1900000.00, 1950000.00] - frecuencia: 1.0\n",
      "Bin 40: [1950000.00, 2000000.00] - frecuencia: 0.0\n",
      "Bin 41: [2000000.00, 2050000.00] - frecuencia: 1.0\n",
      "Bin 42: [2050000.00, 2100000.00] - frecuencia: 0.0\n",
      "Bin 43: [2100000.00, 2150000.00] - frecuencia: 0.0\n",
      "Bin 44: [2150000.00, 2200000.00] - frecuencia: 0.0\n",
      "Bin 45: [2200000.00, 2250000.00] - frecuencia: 0.0\n",
      "Bin 46: [2250000.00, 2300000.00] - frecuencia: 0.0\n",
      "Bin 47: [2300000.00, 2350000.00] - frecuencia: 0.0\n",
      "Bin 48: [2350000.00, 2400000.00] - frecuencia: 0.0\n",
      "Bin 49: [2400000.00, 2450000.00] - frecuencia: 0.0\n",
      "Bin 50: [2450000.00, 2500000.00] - frecuencia: 0.0\n",
      "Bin 51: [2500000.00, 2550000.00] - frecuencia: 0.0\n",
      "Bin 52: [2550000.00, 2600000.00] - frecuencia: 0.0\n",
      "Bin 53: [2600000.00, 2650000.00] - frecuencia: 0.0\n",
      "Bin 54: [2650000.00, 2700000.00] - frecuencia: 0.0\n",
      "Bin 55: [2700000.00, 2750000.00] - frecuencia: 0.0\n",
      "Bin 56: [2750000.00, 2800000.00] - frecuencia: 0.0\n",
      "Bin 57: [2800000.00, 2850000.00] - frecuencia: 0.0\n",
      "Bin 58: [2850000.00, 2900000.00] - frecuencia: 0.0\n",
      "Bin 59: [2900000.00, 2950000.00] - frecuencia: 0.0\n",
      "Bin 60: [2950000.00, 3000000.00] - frecuencia: 0.0\n",
      "Bin 61: [3000000.00, 3050000.00] - frecuencia: 0.0\n",
      "Bin 62: [3050000.00, 3100000.00] - frecuencia: 0.0\n",
      "Bin 63: [3100000.00, 3150000.00] - frecuencia: 0.0\n",
      "Bin 64: [3150000.00, 3200000.00] - frecuencia: 0.0\n",
      "Bin 65: [3200000.00, 3250000.00] - frecuencia: 0.0\n",
      "Bin 66: [3250000.00, 3300000.00] - frecuencia: 0.0\n",
      "Bin 67: [3300000.00, 3350000.00] - frecuencia: 0.0\n",
      "Bin 68: [3350000.00, 3400000.00] - frecuencia: 0.0\n",
      "Bin 69: [3400000.00, 3450000.00] - frecuencia: 0.0\n",
      "Bin 70: [3450000.00, 3500000.00] - frecuencia: 0.0\n",
      "Bin 71: [3500000.00, 3550000.00] - frecuencia: 0.0\n",
      "Bin 72: [3550000.00, 3600000.00] - frecuencia: 0.0\n",
      "Bin 73: [3600000.00, 3650000.00] - frecuencia: 0.0\n",
      "Bin 74: [3650000.00, 3700000.00] - frecuencia: 0.0\n",
      "Bin 75: [3700000.00, 3750000.00] - frecuencia: 0.0\n",
      "Bin 76: [3750000.00, 3800000.00] - frecuencia: 0.0\n",
      "Bin 77: [3800000.00, 3850000.00] - frecuencia: 0.0\n",
      "Bin 78: [3850000.00, 3900000.00] - frecuencia: 0.0\n",
      "Bin 79: [3900000.00, 3950000.00] - frecuencia: 0.0\n",
      "Bin 80: [3950000.00, 4000000.00] - frecuencia: 0.0\n",
      "Bin 81: [4000000.00, 4050000.00] - frecuencia: 0.0\n",
      "Bin 82: [4050000.00, 4100000.00] - frecuencia: 0.0\n",
      "Bin 83: [4100000.00, 4150000.00] - frecuencia: 0.0\n",
      "Bin 84: [4150000.00, 4200000.00] - frecuencia: 0.0\n",
      "Bin 85: [4200000.00, 4250000.00] - frecuencia: 0.0\n",
      "Bin 86: [4250000.00, 4300000.00] - frecuencia: 0.0\n",
      "Bin 87: [4300000.00, 4350000.00] - frecuencia: 0.0\n",
      "Bin 88: [4350000.00, 4400000.00] - frecuencia: 0.0\n",
      "Bin 89: [4400000.00, 4450000.00] - frecuencia: 0.0\n",
      "Bin 90: [4450000.00, 4500000.00] - frecuencia: 0.0\n",
      "Bin 91: [4500000.00, 4550000.00] - frecuencia: 0.0\n",
      "Bin 92: [4550000.00, 4600000.00] - frecuencia: 0.0\n",
      "Bin 93: [4600000.00, 4650000.00] - frecuencia: 0.0\n",
      "Bin 94: [4650000.00, 4700000.00] - frecuencia: 0.0\n",
      "Bin 95: [4700000.00, 4750000.00] - frecuencia: 0.0\n",
      "Bin 96: [4750000.00, 4800000.00] - frecuencia: 0.0\n",
      "Bin 97: [4800000.00, 4850000.00] - frecuencia: 0.0\n",
      "Bin 98: [4850000.00, 4900000.00] - frecuencia: 0.0\n",
      "Bin 99: [4900000.00, 4950000.00] - frecuencia: 0.0\n",
      "Bin 100: [4950000.00, 5000000.00] - frecuencia: 0.0\n",
      "Bin 101: [5000000.00, 5050000.00] - frecuencia: 0.0\n",
      "Bin 102: [5050000.00, 5100000.00] - frecuencia: 0.0\n",
      "Bin 103: [5100000.00, 5150000.00] - frecuencia: 0.0\n",
      "Bin 104: [5150000.00, 5200000.00] - frecuencia: 0.0\n",
      "Bin 105: [5200000.00, 5250000.00] - frecuencia: 0.0\n",
      "Bin 106: [5250000.00, 5300000.00] - frecuencia: 0.0\n",
      "Bin 107: [5300000.00, 5350000.00] - frecuencia: 0.0\n",
      "Bin 108: [5350000.00, 5400000.00] - frecuencia: 0.0\n",
      "Bin 109: [5400000.00, 5450000.00] - frecuencia: 0.0\n",
      "Bin 110: [5450000.00, 5500000.00] - frecuencia: 0.0\n",
      "Bin 111: [5500000.00, 5550000.00] - frecuencia: 0.0\n",
      "Bin 112: [5550000.00, 5600000.00] - frecuencia: 0.0\n",
      "Bin 113: [5600000.00, 5650000.00] - frecuencia: 0.0\n",
      "Bin 114: [5650000.00, 5700000.00] - frecuencia: 0.0\n",
      "Bin 115: [5700000.00, 5750000.00] - frecuencia: 0.0\n",
      "Bin 116: [5750000.00, 5800000.00] - frecuencia: 0.0\n",
      "Bin 117: [5800000.00, 5850000.00] - frecuencia: 0.0\n",
      "Bin 118: [5850000.00, 5900000.00] - frecuencia: 0.0\n",
      "Bin 119: [5900000.00, 5950000.00] - frecuencia: 0.0\n"
     ]
    }
   ],
   "source": [
    "print(\"Detalles de cada bin:\")\n",
    "for i in range(len(bins)-1):\n",
    "    print(f\"Bin {i+1}: [{bins[i]:.2f}, {bins[i+1]:.2f}] - frecuencia: {n[i]}\")"
   ]
  },
  {
   "cell_type": "code",
   "execution_count": 11,
   "id": "857d516b",
   "metadata": {},
   "outputs": [],
   "source": [
    "indice = np.array(data.index)"
   ]
  },
  {
   "cell_type": "code",
   "execution_count": 12,
   "id": "d601aeda",
   "metadata": {},
   "outputs": [
    {
     "data": {
      "image/png": "[encoded data removed]",
      "text/plain": [
       "<Figure size 640x480 with 1 Axes>"
      ]
     },
     "metadata": {},
     "output_type": "display_data"
    }
   ],
   "source": [
    "plt.scatter(indice, data[[\"annual_inc\"]], s = 10)\n",
    "plt.xlabel(\"Index\")\n",
    "plt.ylabel(\"Annual income\")\n",
    "plt.xticks(np.arange(-1, 35000, 5000))\n",
    "plt.xlim(-1000, 31000)\n",
    "plt.show()"
   ]
  },
  {
   "cell_type": "markdown",
   "id": "46fa1603",
   "metadata": {},
   "source": [
    "Se quiere eliminar lo que ganan mas de $3.000.000 anuales"
   ]
  },
  {
   "cell_type": "code",
   "execution_count": 13,
   "id": "b9b1d963",
   "metadata": {},
   "outputs": [
    {
     "data": {
      "text/plain": [
       "(29091, 8)"
      ]
     },
     "execution_count": 13,
     "metadata": {},
     "output_type": "execute_result"
    }
   ],
   "source": [
    "data_expert = data[data[\"annual_inc\"]<=3000000]\n",
    "data_expert.shape"
   ]
  },
  {
   "cell_type": "markdown",
   "id": "5f2017aa",
   "metadata": {},
   "source": [
    "Ahora se sacan los outliers fuera del rango intercuatil"
   ]
  },
  {
   "cell_type": "code",
   "execution_count": 14,
   "id": "16b83319",
   "metadata": {},
   "outputs": [],
   "source": [
    "intecuartile_range = np.quantile(data[\"annual_inc\"], 0.75) - np.quantile(data[\"annual_inc\"], 0.25)\n",
    "outliers_sup = np.quantile(data[\"annual_inc\"], 0.75)+1.5*intecuartile_range"
   ]
  },
  {
   "cell_type": "code",
   "execution_count": 15,
   "id": "4ca4963a",
   "metadata": {},
   "outputs": [
    {
     "data": {
      "text/plain": [
       "(27710, 8)"
      ]
     },
     "execution_count": 15,
     "metadata": {},
     "output_type": "execute_result"
    }
   ],
   "source": [
    "data_ROT = data[data[\"annual_inc\"]<=outliers_sup]\n",
    "data_ROT.shape"
   ]
  },
  {
   "cell_type": "code",
   "execution_count": 16,
   "id": "2edbc7b4",
   "metadata": {},
   "outputs": [
    {
     "data": {
      "image/png": "[encoded data removed]",
      "text/plain": [
       "<Figure size 1280x720 with 2 Axes>"
      ]
     },
     "metadata": {},
     "output_type": "display_data"
    }
   ],
   "source": [
    "fig, ax = plt.subplots(1, 2, figsize = (16, 9), dpi = 80)\n",
    "ax[0].hist(data_expert[[\"annual_inc\"]], color = \"white\", edgecolor = \"black\", bins = int(sqrt(len(data_expert[\"loan_status\"]))))\n",
    "ax[0].set_title(\"Expert Judgement\")\n",
    "ax[0].set_xlabel(\"Annual income\")\n",
    "ax[0].set_ylabel(\"Frequency\")\n",
    "ax[1].hist(data_ROT[[\"annual_inc\"]], color = \"white\", edgecolor = \"black\", bins = int(sqrt(len(data_ROT[\"loan_status\"]))))\n",
    "ax[1].set_title(\"Rule of Thumb\")\n",
    "ax[1].set_xlabel(\"Annual income\")\n",
    "ax[1].set_label(\"Frequency\")\n",
    "plt.show()"
   ]
  },
  {
   "cell_type": "markdown",
   "id": "651287d3",
   "metadata": {},
   "source": [
    "Se ve que la regla de oro es mas útil que la expertise"
   ]
  },
  {
   "cell_type": "code",
   "execution_count": 17,
   "id": "c85ae962",
   "metadata": {},
   "outputs": [
    {
     "data": {
      "image/png": "[encoded data removed]",
      "text/plain": [
       "<Figure size 640x480 with 1 Axes>"
      ]
     },
     "metadata": {},
     "output_type": "display_data"
    }
   ],
   "source": [
    "plt.scatter(data[\"emp_length\"], data[\"annual_inc\"], s = 15, color = \"white\", edgecolors = \"black\")\n",
    "plt.xlabel(\"Employment length\")\n",
    "plt.ylabel(\"Annual income\")\n",
    "plt.show()"
   ]
  },
  {
   "cell_type": "markdown",
   "id": "97b5ade0",
   "metadata": {},
   "source": [
    "### Valores Perdidos"
   ]
  },
  {
   "cell_type": "markdown",
   "id": "dc64e69b",
   "metadata": {},
   "source": [
    "Hay tres maneras de tratar con datos faltantes:\n",
    "- Eliminarlas\n",
    "- Reemplazarlas\n",
    "- Conservarlas"
   ]
  },
  {
   "cell_type": "markdown",
   "id": "692f66e2",
   "metadata": {},
   "source": [
    "Contando los valores faltantes"
   ]
  },
  {
   "cell_type": "code",
   "execution_count": 18,
   "id": "a08c7b39",
   "metadata": {},
   "outputs": [
    {
     "data": {
      "text/plain": [
       "loan_status          0\n",
       "loan_amnt            0\n",
       "int_rate          2776\n",
       "grade                0\n",
       "emp_length         809\n",
       "home_ownership       0\n",
       "annual_inc           0\n",
       "age                  0\n",
       "dtype: int64"
      ]
     },
     "execution_count": 18,
     "metadata": {},
     "output_type": "execute_result"
    }
   ],
   "source": [
    "data.isnull().sum(axis = 0)"
   ]
  },
  {
   "cell_type": "markdown",
   "id": "70b771e1",
   "metadata": {},
   "source": [
    "Eliminamos las filas que tiene NaN en duración del empleo (emp_lenght)"
   ]
  },
  {
   "cell_type": "code",
   "execution_count": 19,
   "id": "06cf7d89",
   "metadata": {},
   "outputs": [
    {
     "data": {
      "text/plain": [
       "(28283, 8)"
      ]
     },
     "execution_count": 19,
     "metadata": {},
     "output_type": "execute_result"
    }
   ],
   "source": [
    "data_no_NaN = data.dropna(axis = 0, subset = [\"emp_length\"])\n",
    "data_no_NaN.shape"
   ]
  },
  {
   "cell_type": "markdown",
   "id": "8ac93223",
   "metadata": {},
   "source": [
    "Ahora transformando los datos, el metodo usado es conservarlas con el método coarse classification"
   ]
  },
  {
   "cell_type": "code",
   "execution_count": 20,
   "id": "41ca699d",
   "metadata": {},
   "outputs": [
    {
     "name": "stdout",
     "output_type": "stream",
     "text": [
      "<class 'pandas.core.frame.DataFrame'>\n",
      "Index: 29092 entries, 1 to 29092\n",
      "Data columns (total 8 columns):\n",
      " #   Column          Non-Null Count  Dtype   \n",
      "---  ------          --------------  -----   \n",
      " 0   loan_status     29092 non-null  int32   \n",
      " 1   loan_amnt       29092 non-null  int32   \n",
      " 2   int_rate        26316 non-null  float64 \n",
      " 3   grade           29092 non-null  category\n",
      " 4   emp_length      28283 non-null  object  \n",
      " 5   home_ownership  29092 non-null  category\n",
      " 6   annual_inc      29092 non-null  float64 \n",
      " 7   age             29092 non-null  int32   \n",
      "dtypes: category(2), float64(2), int32(3), object(1)\n",
      "memory usage: 2.3+ MB\n"
     ]
    }
   ],
   "source": [
    "data.info()"
   ]
  },
  {
   "cell_type": "code",
   "execution_count": 21,
   "id": "d33abfb5",
   "metadata": {},
   "outputs": [],
   "source": [
    "bins_emp = [-1, 15, 30, 45, max(data[\"emp_length\"])]\n",
    "labels_emp = [\"0-15\", \"16-30\", \"31-45\", \"45+\"]\n",
    "data[\"emp_cat\"] = pd.cut(data[\"emp_length\"], bins = bins_emp, labels = labels_emp)\n",
    "data[\"emp_cat\"] = data[\"emp_cat\"].cat.add_categories(\"missing\").fillna(\"missing\")"
   ]
  },
  {
   "cell_type": "code",
   "execution_count": 22,
   "id": "081bfb37",
   "metadata": {},
   "outputs": [
    {
     "name": "stdout",
     "output_type": "stream",
     "text": [
      "emp_cat\n",
      "0-15       25730\n",
      "16-30       2272\n",
      "31-45        253\n",
      "45+           28\n",
      "missing      809\n",
      "Name: count, dtype: int64\n"
     ]
    }
   ],
   "source": [
    "frecuencia_emp = data[\"emp_cat\"].value_counts(dropna = False).sort_index()\n",
    "print(frecuencia_emp)"
   ]
  },
  {
   "cell_type": "code",
   "execution_count": 23,
   "id": "5809a5e1",
   "metadata": {},
   "outputs": [
    {
     "data": {
      "image/png": "[encoded data removed]",
      "text/plain": [
       "<Figure size 640x480 with 1 Axes>"
      ]
     },
     "metadata": {},
     "output_type": "display_data"
    }
   ],
   "source": [
    "barplot_emp = plt.bar(frecuencia_emp.index, frecuencia_emp.values)"
   ]
  },
  {
   "cell_type": "code",
   "execution_count": 24,
   "id": "8c9dea80",
   "metadata": {},
   "outputs": [
    {
     "name": "stdout",
     "output_type": "stream",
     "text": [
      "5.42\n",
      "23.22\n"
     ]
    }
   ],
   "source": [
    "print(min(data[\"int_rate\"]))\n",
    "print(max(data[\"int_rate\"]))"
   ]
  },
  {
   "cell_type": "code",
   "execution_count": 25,
   "id": "de6238c1",
   "metadata": {},
   "outputs": [],
   "source": [
    "bins_emp = [0, 8, 11, 13.5, max(data[\"int_rate\"])]\n",
    "labels_emp = [\"0-8\", \"8-11\", \"11-13.5\", \"13.5+\"]\n",
    "data[\"ir_cat\"] = pd.cut(data[\"int_rate\"], bins = bins_emp, labels = labels_emp)\n",
    "data[\"ir_cat\"] = data[\"ir_cat\"].cat.add_categories(\"missing\").fillna(\"missing\")"
   ]
  },
  {
   "cell_type": "code",
   "execution_count": 26,
   "id": "009d9af8",
   "metadata": {},
   "outputs": [
    {
     "name": "stdout",
     "output_type": "stream",
     "text": [
      "ir_cat\n",
      "0-8        7130\n",
      "8-11       6230\n",
      "11-13.5    6954\n",
      "13.5+      6002\n",
      "missing    2776\n",
      "Name: count, dtype: int64\n"
     ]
    }
   ],
   "source": [
    "frecuencia_ir = data[\"ir_cat\"].value_counts(dropna = False).sort_index()\n",
    "print(frecuencia_ir)"
   ]
  },
  {
   "cell_type": "code",
   "execution_count": 27,
   "id": "1a9b4269",
   "metadata": {},
   "outputs": [
    {
     "data": {
      "image/png": "[encoded data removed]",
      "text/plain": [
       "<Figure size 640x480 with 1 Axes>"
      ]
     },
     "metadata": {},
     "output_type": "display_data"
    }
   ],
   "source": [
    "barplot_emp = plt.bar(frecuencia_ir.index, frecuencia_ir.values)"
   ]
  },
  {
   "cell_type": "code",
   "execution_count": 28,
   "id": "45636c9f",
   "metadata": {},
   "outputs": [
    {
     "name": "stdout",
     "output_type": "stream",
     "text": [
      "<class 'pandas.core.frame.DataFrame'>\n",
      "Index: 29092 entries, 1 to 29092\n",
      "Data columns (total 10 columns):\n",
      " #   Column          Non-Null Count  Dtype   \n",
      "---  ------          --------------  -----   \n",
      " 0   loan_status     29092 non-null  int32   \n",
      " 1   loan_amnt       29092 non-null  int32   \n",
      " 2   int_rate        26316 non-null  float64 \n",
      " 3   grade           29092 non-null  category\n",
      " 4   emp_length      28283 non-null  object  \n",
      " 5   home_ownership  29092 non-null  category\n",
      " 6   annual_inc      29092 non-null  float64 \n",
      " 7   age             29092 non-null  int32   \n",
      " 8   emp_cat         29092 non-null  category\n",
      " 9   ir_cat          29092 non-null  category\n",
      "dtypes: category(4), float64(2), int32(3), object(1)\n",
      "memory usage: 2.3+ MB\n"
     ]
    }
   ],
   "source": [
    "data.info()"
   ]
  },
  {
   "cell_type": "code",
   "execution_count": 29,
   "id": "a47cb2d4",
   "metadata": {},
   "outputs": [
    {
     "data": {
      "text/plain": [
       "loan_status          0\n",
       "loan_amnt            0\n",
       "int_rate          2776\n",
       "grade                0\n",
       "emp_length         809\n",
       "home_ownership       0\n",
       "annual_inc           0\n",
       "age                  0\n",
       "emp_cat              0\n",
       "ir_cat               0\n",
       "dtype: int64"
      ]
     },
     "execution_count": 29,
     "metadata": {},
     "output_type": "execute_result"
    }
   ],
   "source": [
    "data.isnull().sum(axis = 0)"
   ]
  },
  {
   "cell_type": "markdown",
   "id": "ceb8a2dc",
   "metadata": {},
   "source": [
    "## Regresion logistica"
   ]
  },
  {
   "cell_type": "code",
   "execution_count": 30,
   "id": "2bdb9844",
   "metadata": {},
   "outputs": [
    {
     "name": "stdout",
     "output_type": "stream",
     "text": [
      "          loan_status  loan_amnt  int_rate grade emp_length home_ownership  \\\n",
      "rownames                                                                     \n",
      "1                   0       5000     10.65     B         10           RENT   \n",
      "2                   0       2400       NaN     C         25           RENT   \n",
      "3                   0      10000     13.49     C         13           RENT   \n",
      "4                   0       5000       NaN     A          3           RENT   \n",
      "5                   0       3000       NaN     E          9           RENT   \n",
      "...               ...        ...       ...   ...        ...            ...   \n",
      "29088               0       2500      8.07     A          4       MORTGAGE   \n",
      "29089               0       8500     10.28     C          3           RENT   \n",
      "29090               0       5000      8.07     A          0       MORTGAGE   \n",
      "29091               0       5000      7.43     A          0       MORTGAGE   \n",
      "29092               0       7500       NaN     E          0            OWN   \n",
      "\n",
      "          annual_inc  age emp_cat  ir_cat_8-11  ir_cat_11-13.5  ir_cat_13.5+  \\\n",
      "rownames                                                                       \n",
      "1            24000.0   33    0-15         True           False         False   \n",
      "2            12252.0   31   16-30        False           False         False   \n",
      "3            49200.0   24    0-15        False            True         False   \n",
      "4            36000.0   39    0-15        False           False         False   \n",
      "5            48000.0   24    0-15        False           False         False   \n",
      "...              ...  ...     ...          ...             ...           ...   \n",
      "29088       110000.0   27    0-15         True           False         False   \n",
      "29089        18000.0   25    0-15         True           False         False   \n",
      "29090       100000.0   27    0-15         True           False         False   \n",
      "29091       200000.0   23    0-15        False           False         False   \n",
      "29092        22000.0   25    0-15        False           False         False   \n",
      "\n",
      "          ir_cat_missing  \n",
      "rownames                  \n",
      "1                  False  \n",
      "2                   True  \n",
      "3                  False  \n",
      "4                   True  \n",
      "5                   True  \n",
      "...                  ...  \n",
      "29088              False  \n",
      "29089              False  \n",
      "29090              False  \n",
      "29091              False  \n",
      "29092               True  \n",
      "\n",
      "[29092 rows x 13 columns]\n"
     ]
    }
   ],
   "source": [
    "data_encoded = pd.get_dummies(data, columns = [\"ir_cat\"], drop_first= True)\n",
    "print(data_encoded)"
   ]
  },
  {
   "cell_type": "code",
   "execution_count": 31,
   "id": "82379311",
   "metadata": {},
   "outputs": [
    {
     "data": {
      "text/plain": [
       "rownames\n",
       "1        False\n",
       "2         True\n",
       "3        False\n",
       "4         True\n",
       "5         True\n",
       "         ...  \n",
       "29088    False\n",
       "29089    False\n",
       "29090    False\n",
       "29091    False\n",
       "29092     True\n",
       "Name: ir_cat_missing, Length: 29092, dtype: bool"
      ]
     },
     "execution_count": 31,
     "metadata": {},
     "output_type": "execute_result"
    }
   ],
   "source": [
    "data_encoded[\"ir_cat_missing\"]"
   ]
  },
  {
   "cell_type": "code",
   "execution_count": 32,
   "id": "2e9db140",
   "metadata": {},
   "outputs": [],
   "source": [
    "X = data_encoded[[\"ir_cat_8-11\", \"ir_cat_11-13.5\", \"ir_cat_13.5+\", \"ir_cat_missing\"]]\n",
    "y = data_encoded[\"loan_status\"]"
   ]
  },
  {
   "cell_type": "code",
   "execution_count": 33,
   "id": "7df2319f",
   "metadata": {},
   "outputs": [
    {
     "data": {
      "text/html": [
       "<style>#sk-container-id-1 {\n",
       "  /* Definition of color scheme common for light and dark mode */\n",
       "  --sklearn-color-text: #000;\n",
       "  --sklearn-color-text-muted: #666;\n",
       "  --sklearn-color-line: gray;\n",
       "  /* Definition of color scheme for unfitted estimators */\n",
       "  --sklearn-color-unfitted-level-0: #fff5e6;\n",
       "  --sklearn-color-unfitted-level-1: #f6e4d2;\n",
       "  --sklearn-color-unfitted-level-2: #ffe0b3;\n",
       "  --sklearn-color-unfitted-level-3: chocolate;\n",
       "  /* Definition of color scheme for fitted estimators */\n",
       "  --sklearn-color-fitted-level-0: #f0f8ff;\n",
       "  --sklearn-color-fitted-level-1: #d4ebff;\n",
       "  --sklearn-color-fitted-level-2: #b3dbfd;\n",
       "  --sklearn-color-fitted-level-3: cornflowerblue;\n",
       "\n",
       "  /* Specific color for light theme */\n",
       "  --sklearn-color-text-on-default-background: var(--sg-text-color, var(--theme-code-foreground, var(--jp-content-font-color1, black)));\n",
       "  --sklearn-color-background: var(--sg-background-color, var(--theme-background, var(--jp-layout-color0, white)));\n",
       "  --sklearn-color-border-box: var(--sg-text-color, var(--theme-code-foreground, var(--jp-content-font-color1, black)));\n",
       "  --sklearn-color-icon: #696969;\n",
       "\n",
       "  @media (prefers-color-scheme: dark) {\n",
       "    /* Redefinition of color scheme for dark theme */\n",
       "    --sklearn-color-text-on-default-background: var(--sg-text-color, var(--theme-code-foreground, var(--jp-content-font-color1, white)));\n",
       "    --sklearn-color-background: var(--sg-background-color, var(--theme-background, var(--jp-layout-color0, #111)));\n",
       "    --sklearn-color-border-box: var(--sg-text-color, var(--theme-code-foreground, var(--jp-content-font-color1, white)));\n",
       "    --sklearn-color-icon: #878787;\n",
       "  }\n",
       "}\n",
       "\n",
       "#sk-container-id-1 {\n",
       "  color: var(--sklearn-color-text);\n",
       "}\n",
       "\n",
       "#sk-container-id-1 pre {\n",
       "  padding: 0;\n",
       "}\n",
       "\n",
       "#sk-container-id-1 input.sk-hidden--visually {\n",
       "  border: 0;\n",
       "  clip: rect(1px 1px 1px 1px);\n",
       "  clip: rect(1px, 1px, 1px, 1px);\n",
       "  height: 1px;\n",
       "  margin: -1px;\n",
       "  overflow: hidden;\n",
       "  padding: 0;\n",
       "  position: absolute;\n",
       "  width: 1px;\n",
       "}\n",
       "\n",
       "#sk-container-id-1 div.sk-dashed-wrapped {\n",
       "  border: 1px dashed var(--sklearn-color-line);\n",
       "  margin: 0 0.4em 0.5em 0.4em;\n",
       "  box-sizing: border-box;\n",
       "  padding-bottom: 0.4em;\n",
       "  background-color: var(--sklearn-color-background);\n",
       "}\n",
       "\n",
       "#sk-container-id-1 div.sk-container {\n",
       "  /* jupyter's `normalize.less` sets `[hidden] { display: none; }`\n",
       "     but bootstrap.min.css set `[hidden] { display: none !important; }`\n",
       "     so we also need the `!important` here to be able to override the\n",
       "     default hidden behavior on the sphinx rendered scikit-learn.org.\n",
       "     See: https://github.com/scikit-learn/scikit-learn/issues/21755 */\n",
       "  display: inline-block !important;\n",
       "  position: relative;\n",
       "}\n",
       "\n",
       "#sk-container-id-1 div.sk-text-repr-fallback {\n",
       "  display: none;\n",
       "}\n",
       "\n",
       "div.sk-parallel-item,\n",
       "div.sk-serial,\n",
       "div.sk-item {\n",
       "  /* draw centered vertical line to link estimators */\n",
       "  background-image: linear-gradient(var(--sklearn-color-text-on-default-background), var(--sklearn-color-text-on-default-background));\n",
       "  background-size: 2px 100%;\n",
       "  background-repeat: no-repeat;\n",
       "  background-position: center center;\n",
       "}\n",
       "\n",
       "/* Parallel-specific style estimator block */\n",
       "\n",
       "#sk-container-id-1 div.sk-parallel-item::after {\n",
       "  content: \"\";\n",
       "  width: 100%;\n",
       "  border-bottom: 2px solid var(--sklearn-color-text-on-default-background);\n",
       "  flex-grow: 1;\n",
       "}\n",
       "\n",
       "#sk-container-id-1 div.sk-parallel {\n",
       "  display: flex;\n",
       "  align-items: stretch;\n",
       "  justify-content: center;\n",
       "  background-color: var(--sklearn-color-background);\n",
       "  position: relative;\n",
       "}\n",
       "\n",
       "#sk-container-id-1 div.sk-parallel-item {\n",
       "  display: flex;\n",
       "  flex-direction: column;\n",
       "}\n",
       "\n",
       "#sk-container-id-1 div.sk-parallel-item:first-child::after {\n",
       "  align-self: flex-end;\n",
       "  width: 50%;\n",
       "}\n",
       "\n",
       "#sk-container-id-1 div.sk-parallel-item:last-child::after {\n",
       "  align-self: flex-start;\n",
       "  width: 50%;\n",
       "}\n",
       "\n",
       "#sk-container-id-1 div.sk-parallel-item:only-child::after {\n",
       "  width: 0;\n",
       "}\n",
       "\n",
       "/* Serial-specific style estimator block */\n",
       "\n",
       "#sk-container-id-1 div.sk-serial {\n",
       "  display: flex;\n",
       "  flex-direction: column;\n",
       "  align-items: center;\n",
       "  background-color: var(--sklearn-color-background);\n",
       "  padding-right: 1em;\n",
       "  padding-left: 1em;\n",
       "}\n",
       "\n",
       "\n",
       "/* Toggleable style: style used for estimator/Pipeline/ColumnTransformer box that is\n",
       "clickable and can be expanded/collapsed.\n",
       "- Pipeline and ColumnTransformer use this feature and define the default style\n",
       "- Estimators will overwrite some part of the style using the `sk-estimator` class\n",
       "*/\n",
       "\n",
       "/* Pipeline and ColumnTransformer style (default) */\n",
       "\n",
       "#sk-container-id-1 div.sk-toggleable {\n",
       "  /* Default theme specific background. It is overwritten whether we have a\n",
       "  specific estimator or a Pipeline/ColumnTransformer */\n",
       "  background-color: var(--sklearn-color-background);\n",
       "}\n",
       "\n",
       "/* Toggleable label */\n",
       "#sk-container-id-1 label.sk-toggleable__label {\n",
       "  cursor: pointer;\n",
       "  display: flex;\n",
       "  width: 100%;\n",
       "  margin-bottom: 0;\n",
       "  padding: 0.5em;\n",
       "  box-sizing: border-box;\n",
       "  text-align: center;\n",
       "  align-items: start;\n",
       "  justify-content: space-between;\n",
       "  gap: 0.5em;\n",
       "}\n",
       "\n",
       "#sk-container-id-1 label.sk-toggleable__label .caption {\n",
       "  font-size: 0.6rem;\n",
       "  font-weight: lighter;\n",
       "  color: var(--sklearn-color-text-muted);\n",
       "}\n",
       "\n",
       "#sk-container-id-1 label.sk-toggleable__label-arrow:before {\n",
       "  /* Arrow on the left of the label */\n",
       "  content: \"▸\";\n",
       "  float: left;\n",
       "  margin-right: 0.25em;\n",
       "  color: var(--sklearn-color-icon);\n",
       "}\n",
       "\n",
       "#sk-container-id-1 label.sk-toggleable__label-arrow:hover:before {\n",
       "  color: var(--sklearn-color-text);\n",
       "}\n",
       "\n",
       "/* Toggleable content - dropdown */\n",
       "\n",
       "#sk-container-id-1 div.sk-toggleable__content {\n",
       "  max-height: 0;\n",
       "  max-width: 0;\n",
       "  overflow: hidden;\n",
       "  text-align: left;\n",
       "  /* unfitted */\n",
       "  background-color: var(--sklearn-color-unfitted-level-0);\n",
       "}\n",
       "\n",
       "#sk-container-id-1 div.sk-toggleable__content.fitted {\n",
       "  /* fitted */\n",
       "  background-color: var(--sklearn-color-fitted-level-0);\n",
       "}\n",
       "\n",
       "#sk-container-id-1 div.sk-toggleable__content pre {\n",
       "  margin: 0.2em;\n",
       "  border-radius: 0.25em;\n",
       "  color: var(--sklearn-color-text);\n",
       "  /* unfitted */\n",
       "  background-color: var(--sklearn-color-unfitted-level-0);\n",
       "}\n",
       "\n",
       "#sk-container-id-1 div.sk-toggleable__content.fitted pre {\n",
       "  /* unfitted */\n",
       "  background-color: var(--sklearn-color-fitted-level-0);\n",
       "}\n",
       "\n",
       "#sk-container-id-1 input.sk-toggleable__control:checked~div.sk-toggleable__content {\n",
       "  /* Expand drop-down */\n",
       "  max-height: 200px;\n",
       "  max-width: 100%;\n",
       "  overflow: auto;\n",
       "}\n",
       "\n",
       "#sk-container-id-1 input.sk-toggleable__control:checked~label.sk-toggleable__label-arrow:before {\n",
       "  content: \"▾\";\n",
       "}\n",
       "\n",
       "/* Pipeline/ColumnTransformer-specific style */\n",
       "\n",
       "#sk-container-id-1 div.sk-label input.sk-toggleable__control:checked~label.sk-toggleable__label {\n",
       "  color: var(--sklearn-color-text);\n",
       "  background-color: var(--sklearn-color-unfitted-level-2);\n",
       "}\n",
       "\n",
       "#sk-container-id-1 div.sk-label.fitted input.sk-toggleable__control:checked~label.sk-toggleable__label {\n",
       "  background-color: var(--sklearn-color-fitted-level-2);\n",
       "}\n",
       "\n",
       "/* Estimator-specific style */\n",
       "\n",
       "/* Colorize estimator box */\n",
       "#sk-container-id-1 div.sk-estimator input.sk-toggleable__control:checked~label.sk-toggleable__label {\n",
       "  /* unfitted */\n",
       "  background-color: var(--sklearn-color-unfitted-level-2);\n",
       "}\n",
       "\n",
       "#sk-container-id-1 div.sk-estimator.fitted input.sk-toggleable__control:checked~label.sk-toggleable__label {\n",
       "  /* fitted */\n",
       "  background-color: var(--sklearn-color-fitted-level-2);\n",
       "}\n",
       "\n",
       "#sk-container-id-1 div.sk-label label.sk-toggleable__label,\n",
       "#sk-container-id-1 div.sk-label label {\n",
       "  /* The background is the default theme color */\n",
       "  color: var(--sklearn-color-text-on-default-background);\n",
       "}\n",
       "\n",
       "/* On hover, darken the color of the background */\n",
       "#sk-container-id-1 div.sk-label:hover label.sk-toggleable__label {\n",
       "  color: var(--sklearn-color-text);\n",
       "  background-color: var(--sklearn-color-unfitted-level-2);\n",
       "}\n",
       "\n",
       "/* Label box, darken color on hover, fitted */\n",
       "#sk-container-id-1 div.sk-label.fitted:hover label.sk-toggleable__label.fitted {\n",
       "  color: var(--sklearn-color-text);\n",
       "  background-color: var(--sklearn-color-fitted-level-2);\n",
       "}\n",
       "\n",
       "/* Estimator label */\n",
       "\n",
       "#sk-container-id-1 div.sk-label label {\n",
       "  font-family: monospace;\n",
       "  font-weight: bold;\n",
       "  display: inline-block;\n",
       "  line-height: 1.2em;\n",
       "}\n",
       "\n",
       "#sk-container-id-1 div.sk-label-container {\n",
       "  text-align: center;\n",
       "}\n",
       "\n",
       "/* Estimator-specific */\n",
       "#sk-container-id-1 div.sk-estimator {\n",
       "  font-family: monospace;\n",
       "  border: 1px dotted var(--sklearn-color-border-box);\n",
       "  border-radius: 0.25em;\n",
       "  box-sizing: border-box;\n",
       "  margin-bottom: 0.5em;\n",
       "  /* unfitted */\n",
       "  background-color: var(--sklearn-color-unfitted-level-0);\n",
       "}\n",
       "\n",
       "#sk-container-id-1 div.sk-estimator.fitted {\n",
       "  /* fitted */\n",
       "  background-color: var(--sklearn-color-fitted-level-0);\n",
       "}\n",
       "\n",
       "/* on hover */\n",
       "#sk-container-id-1 div.sk-estimator:hover {\n",
       "  /* unfitted */\n",
       "  background-color: var(--sklearn-color-unfitted-level-2);\n",
       "}\n",
       "\n",
       "#sk-container-id-1 div.sk-estimator.fitted:hover {\n",
       "  /* fitted */\n",
       "  background-color: var(--sklearn-color-fitted-level-2);\n",
       "}\n",
       "\n",
       "/* Specification for estimator info (e.g. \"i\" and \"?\") */\n",
       "\n",
       "/* Common style for \"i\" and \"?\" */\n",
       "\n",
       ".sk-estimator-doc-link,\n",
       "a:link.sk-estimator-doc-link,\n",
       "a:visited.sk-estimator-doc-link {\n",
       "  float: right;\n",
       "  font-size: smaller;\n",
       "  line-height: 1em;\n",
       "  font-family: monospace;\n",
       "  background-color: var(--sklearn-color-background);\n",
       "  border-radius: 1em;\n",
       "  height: 1em;\n",
       "  width: 1em;\n",
       "  text-decoration: none !important;\n",
       "  margin-left: 0.5em;\n",
       "  text-align: center;\n",
       "  /* unfitted */\n",
       "  border: var(--sklearn-color-unfitted-level-1) 1pt solid;\n",
       "  color: var(--sklearn-color-unfitted-level-1);\n",
       "}\n",
       "\n",
       ".sk-estimator-doc-link.fitted,\n",
       "a:link.sk-estimator-doc-link.fitted,\n",
       "a:visited.sk-estimator-doc-link.fitted {\n",
       "  /* fitted */\n",
       "  border: var(--sklearn-color-fitted-level-1) 1pt solid;\n",
       "  color: var(--sklearn-color-fitted-level-1);\n",
       "}\n",
       "\n",
       "/* On hover */\n",
       "div.sk-estimator:hover .sk-estimator-doc-link:hover,\n",
       ".sk-estimator-doc-link:hover,\n",
       "div.sk-label-container:hover .sk-estimator-doc-link:hover,\n",
       ".sk-estimator-doc-link:hover {\n",
       "  /* unfitted */\n",
       "  background-color: var(--sklearn-color-unfitted-level-3);\n",
       "  color: var(--sklearn-color-background);\n",
       "  text-decoration: none;\n",
       "}\n",
       "\n",
       "div.sk-estimator.fitted:hover .sk-estimator-doc-link.fitted:hover,\n",
       ".sk-estimator-doc-link.fitted:hover,\n",
       "div.sk-label-container:hover .sk-estimator-doc-link.fitted:hover,\n",
       ".sk-estimator-doc-link.fitted:hover {\n",
       "  /* fitted */\n",
       "  background-color: var(--sklearn-color-fitted-level-3);\n",
       "  color: var(--sklearn-color-background);\n",
       "  text-decoration: none;\n",
       "}\n",
       "\n",
       "/* Span, style for the box shown on hovering the info icon */\n",
       ".sk-estimator-doc-link span {\n",
       "  display: none;\n",
       "  z-index: 9999;\n",
       "  position: relative;\n",
       "  font-weight: normal;\n",
       "  right: .2ex;\n",
       "  padding: .5ex;\n",
       "  margin: .5ex;\n",
       "  width: min-content;\n",
       "  min-width: 20ex;\n",
       "  max-width: 50ex;\n",
       "  color: var(--sklearn-color-text);\n",
       "  box-shadow: 2pt 2pt 4pt #999;\n",
       "  /* unfitted */\n",
       "  background: var(--sklearn-color-unfitted-level-0);\n",
       "  border: .5pt solid var(--sklearn-color-unfitted-level-3);\n",
       "}\n",
       "\n",
       ".sk-estimator-doc-link.fitted span {\n",
       "  /* fitted */\n",
       "  background: var(--sklearn-color-fitted-level-0);\n",
       "  border: var(--sklearn-color-fitted-level-3);\n",
       "}\n",
       "\n",
       ".sk-estimator-doc-link:hover span {\n",
       "  display: block;\n",
       "}\n",
       "\n",
       "/* \"?\"-specific style due to the `<a>` HTML tag */\n",
       "\n",
       "#sk-container-id-1 a.estimator_doc_link {\n",
       "  float: right;\n",
       "  font-size: 1rem;\n",
       "  line-height: 1em;\n",
       "  font-family: monospace;\n",
       "  background-color: var(--sklearn-color-background);\n",
       "  border-radius: 1rem;\n",
       "  height: 1rem;\n",
       "  width: 1rem;\n",
       "  text-decoration: none;\n",
       "  /* unfitted */\n",
       "  color: var(--sklearn-color-unfitted-level-1);\n",
       "  border: var(--sklearn-color-unfitted-level-1) 1pt solid;\n",
       "}\n",
       "\n",
       "#sk-container-id-1 a.estimator_doc_link.fitted {\n",
       "  /* fitted */\n",
       "  border: var(--sklearn-color-fitted-level-1) 1pt solid;\n",
       "  color: var(--sklearn-color-fitted-level-1);\n",
       "}\n",
       "\n",
       "/* On hover */\n",
       "#sk-container-id-1 a.estimator_doc_link:hover {\n",
       "  /* unfitted */\n",
       "  background-color: var(--sklearn-color-unfitted-level-3);\n",
       "  color: var(--sklearn-color-background);\n",
       "  text-decoration: none;\n",
       "}\n",
       "\n",
       "#sk-container-id-1 a.estimator_doc_link.fitted:hover {\n",
       "  /* fitted */\n",
       "  background-color: var(--sklearn-color-fitted-level-3);\n",
       "}\n",
       "</style><div id=\"sk-container-id-1\" class=\"sk-top-container\"><div class=\"sk-text-repr-fallback\"><pre>LogisticRegression()</pre><b>In a Jupyter environment, please rerun this cell to show the HTML representation or trust the notebook. <br />On GitHub, the HTML representation is unable to render, please try loading this page with nbviewer.org.</b></div><div class=\"sk-container\" hidden><div class=\"sk-item\"><div class=\"sk-estimator fitted sk-toggleable\"><input class=\"sk-toggleable__control sk-hidden--visually\" id=\"sk-estimator-id-1\" type=\"checkbox\" checked><label for=\"sk-estimator-id-1\" class=\"sk-toggleable__label fitted sk-toggleable__label-arrow\"><div><div>LogisticRegression</div></div><div><a class=\"sk-estimator-doc-link fitted\" rel=\"noreferrer\" target=\"_blank\" href=\"https://scikit-learn.org/1.6/modules/generated/sklearn.linear_model.LogisticRegression.html\">?<span>Documentation for LogisticRegression</span></a><span class=\"sk-estimator-doc-link fitted\">i<span>Fitted</span></span></div></label><div class=\"sk-toggleable__content fitted\"><pre>LogisticRegression()</pre></div> </div></div></div></div>"
      ],
      "text/plain": [
       "LogisticRegression()"
      ]
     },
     "execution_count": 33,
     "metadata": {},
     "output_type": "execute_result"
    }
   ],
   "source": [
    "logreg = LogisticRegression()\n",
    "logreg.fit(X, y)"
   ]
  },
  {
   "cell_type": "code",
   "execution_count": 34,
   "id": "79406a47",
   "metadata": {},
   "outputs": [
    {
     "data": {
      "text/plain": [
       "array([-2.88439146])"
      ]
     },
     "execution_count": 34,
     "metadata": {},
     "output_type": "execute_result"
    }
   ],
   "source": [
    "logreg.intercept_"
   ]
  },
  {
   "cell_type": "code",
   "execution_count": 35,
   "id": "279831bd",
   "metadata": {},
   "outputs": [
    {
     "data": {
      "text/plain": [
       "array([[0.61258122, 1.00007171, 1.34218667, 0.74425717]])"
      ]
     },
     "execution_count": 35,
     "metadata": {},
     "output_type": "execute_result"
    }
   ],
   "source": [
    "logreg.coef_"
   ]
  }
 ],
 "metadata": {
  "kernelspec": {
   "display_name": "venv",
   "language": "python",
   "name": "python3"
  },
  "language_info": {
   "codemirror_mode": {
    "name": "ipython",
    "version": 3
   },
   "file_extension": ".py",
   "mimetype": "text/x-python",
   "name": "python",
   "nbconvert_exporter": "python",
   "pygments_lexer": "ipython3",
   "version": "3.11.8"
  }
 },
 "nbformat": 4,
 "nbformat_minor": 5
}
